{
 "cells": [
  {
   "cell_type": "code",
   "execution_count": 1,
   "id": "c7b246fe",
   "metadata": {},
   "outputs": [],
   "source": [
    "#!pip install requests beautifulsoup4\n",
    "#!pip install pandas\n",
    "#!pip install selenium\n",
    "#!pip install webdriver-manager"
   ]
  },
  {
   "cell_type": "code",
   "execution_count": 2,
   "id": "bc254745",
   "metadata": {},
   "outputs": [],
   "source": [
    "from selenium import webdriver\n",
    "from selenium.webdriver.chrome.service import Service\n",
    "from webdriver_manager.chrome import ChromeDriverManager\n",
    "from selenium.webdriver.common.by import By\n",
    "import time\n",
    "import pandas as pd"
   ]
  },
  {
   "cell_type": "code",
   "execution_count": 3,
   "id": "7360b942",
   "metadata": {},
   "outputs": [],
   "source": [
    "driver = webdriver.Chrome(service=Service(ChromeDriverManager().install()))\n",
    "\n",
    "url = 'https://pantip.com/topic/43391806'\n",
    "\n",
    "driver.get(url)\n"
   ]
  },
  {
   "cell_type": "code",
   "execution_count": 4,
   "id": "6b58fefc",
   "metadata": {},
   "outputs": [],
   "source": [
    "time.sleep(5)"
   ]
  },
  {
   "cell_type": "code",
   "execution_count": 5,
   "id": "b8cb76bc",
   "metadata": {},
   "outputs": [
    {
     "name": "stdout",
     "output_type": "stream",
     "text": [
      "Main post: เปิดกรุหนังสยองขวัญไซไฟสายเลือดไทยที่มีชื่อสั้นๆ แต่เท่ ‘มาห์’ ตำนานความคัลต์ของหนังสัตว์ประหลาดแบบไทยๆ ที่เคยสร้างปรากฏการณ์สั่นกระโหลกให้กับวงการหนังไทยในยุคหนึ่งเมื่อคราวที่ออกฉายในปี 2534 หรือช่วง ...\n",
      "\n",
      "เจอ 59 comments รวม main post\n"
     ]
    }
   ],
   "source": [
    "try:\n",
    "    main_post = driver.find_element(By.CLASS_NAME, 'display-post-story').text.strip()\n",
    "    print(\"Main post:\", main_post[:200], \"...\")\n",
    "except:\n",
    "    print(\"Main post not found\")\n",
    "\n",
    "# หา comments\n",
    "comment_elements = driver.find_elements(By.CLASS_NAME, 'display-post-story')\n",
    "print(f\"\\nเจอ {len(comment_elements)} comments รวม main post\")\n"
   ]
  },
  {
   "cell_type": "code",
   "execution_count": 6,
   "id": "cabbd17c",
   "metadata": {},
   "outputs": [],
   "source": [
    "all_comments = []\n",
    "for c in comment_elements:\n",
    "    text = c.text.strip()\n",
    "    all_comments.append(text)"
   ]
  },
  {
   "cell_type": "code",
   "execution_count": 7,
   "id": "99e06f41",
   "metadata": {},
   "outputs": [],
   "source": [
    "driver.quit()\n"
   ]
  },
  {
   "cell_type": "code",
   "execution_count": 8,
   "id": "0b1bf46a",
   "metadata": {},
   "outputs": [
    {
     "data": {
      "text/html": [
       "<div>\n",
       "<style scoped>\n",
       "    .dataframe tbody tr th:only-of-type {\n",
       "        vertical-align: middle;\n",
       "    }\n",
       "\n",
       "    .dataframe tbody tr th {\n",
       "        vertical-align: top;\n",
       "    }\n",
       "\n",
       "    .dataframe thead th {\n",
       "        text-align: right;\n",
       "    }\n",
       "</style>\n",
       "<table border=\"1\" class=\"dataframe\">\n",
       "  <thead>\n",
       "    <tr style=\"text-align: right;\">\n",
       "      <th></th>\n",
       "      <th>comment</th>\n",
       "    </tr>\n",
       "  </thead>\n",
       "  <tbody>\n",
       "    <tr>\n",
       "      <th>0</th>\n",
       "      <td>เปิดกรุหนังสยองขวัญไซไฟสายเลือดไทยที่มีชื่อสั้...</td>\n",
       "    </tr>\n",
       "    <tr>\n",
       "      <th>1</th>\n",
       "      <td>ได้ดูใน โรงครับเรื่องนี้ ตอนนั้นชอบมาก และก็รู...</td>\n",
       "    </tr>\n",
       "    <tr>\n",
       "      <th>2</th>\n",
       "      <td></td>\n",
       "    </tr>\n",
       "    <tr>\n",
       "      <th>3</th>\n",
       "      <td></td>\n",
       "    </tr>\n",
       "    <tr>\n",
       "      <th>4</th>\n",
       "      <td>ขอบคุณที่มาแชร์นะ</td>\n",
       "    </tr>\n",
       "    <tr>\n",
       "      <th>5</th>\n",
       "      <td></td>\n",
       "    </tr>\n",
       "    <tr>\n",
       "      <th>6</th>\n",
       "      <td>เพิ่งรู้จักจากกระทู้นี้เลยค่ะ\\nน่าสนใจดี</td>\n",
       "    </tr>\n",
       "    <tr>\n",
       "      <th>7</th>\n",
       "      <td></td>\n",
       "    </tr>\n",
       "    <tr>\n",
       "      <th>8</th>\n",
       "      <td>ขอบคุณครับ</td>\n",
       "    </tr>\n",
       "    <tr>\n",
       "      <th>9</th>\n",
       "      <td></td>\n",
       "    </tr>\n",
       "  </tbody>\n",
       "</table>\n",
       "</div>"
      ],
      "text/plain": [
       "                                             comment\n",
       "0  เปิดกรุหนังสยองขวัญไซไฟสายเลือดไทยที่มีชื่อสั้...\n",
       "1  ได้ดูใน โรงครับเรื่องนี้ ตอนนั้นชอบมาก และก็รู...\n",
       "2                                                   \n",
       "3                                                   \n",
       "4                                  ขอบคุณที่มาแชร์นะ\n",
       "5                                                   \n",
       "6           เพิ่งรู้จักจากกระทู้นี้เลยค่ะ\\nน่าสนใจดี\n",
       "7                                                   \n",
       "8                                         ขอบคุณครับ\n",
       "9                                                   "
      ]
     },
     "execution_count": 8,
     "metadata": {},
     "output_type": "execute_result"
    }
   ],
   "source": [
    "df = pd.DataFrame({'comment':all_comments})\n",
    "df.head(10)"
   ]
  },
  {
   "cell_type": "code",
   "execution_count": 9,
   "id": "f91ef2c4",
   "metadata": {},
   "outputs": [],
   "source": [
    "df.to_csv('pantip_scraped_comments.csv', index=False, encoding='utf-8-sig')\n"
   ]
  }
 ],
 "metadata": {
  "kernelspec": {
   "display_name": "base",
   "language": "python",
   "name": "python3"
  },
  "language_info": {
   "codemirror_mode": {
    "name": "ipython",
    "version": 3
   },
   "file_extension": ".py",
   "mimetype": "text/x-python",
   "name": "python",
   "nbconvert_exporter": "python",
   "pygments_lexer": "ipython3",
   "version": "3.12.7"
  }
 },
 "nbformat": 4,
 "nbformat_minor": 5
}
